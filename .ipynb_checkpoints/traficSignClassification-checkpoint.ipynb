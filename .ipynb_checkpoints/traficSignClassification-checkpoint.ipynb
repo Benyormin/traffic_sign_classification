{
 "cells": [
  {
   "cell_type": "code",
   "execution_count": 1,
   "id": "4bf824f1",
   "metadata": {},
   "outputs": [],
   "source": [
    "import tensorflow as tf\n",
    "import pandas as pd\n",
    "import numpy as np\n",
    "import os\n",
    "from tensorflow.keras.models import Model, Sequential\n",
    "from tensorflow.keras.layers import Layer, Conv2D, Activation, Dense, Flatten\n",
    "from matplotlib import pyplot as plt\n",
    "from PIL import Image"
   ]
  },
  {
   "cell_type": "markdown",
   "id": "13f0b0d5-73f3-4e17-a3ef-119fd1378b53",
   "metadata": {},
   "source": [
    "## Classes\n"
   ]
  },
  {
   "cell_type": "code",
   "execution_count": 2,
   "id": "871e1dea",
   "metadata": {
    "scrolled": true
   },
   "outputs": [
    {
     "data": {
      "text/html": [
       "<div>\n",
       "<style scoped>\n",
       "    .dataframe tbody tr th:only-of-type {\n",
       "        vertical-align: middle;\n",
       "    }\n",
       "\n",
       "    .dataframe tbody tr th {\n",
       "        vertical-align: top;\n",
       "    }\n",
       "\n",
       "    .dataframe thead th {\n",
       "        text-align: right;\n",
       "    }\n",
       "</style>\n",
       "<table border=\"1\" class=\"dataframe\">\n",
       "  <thead>\n",
       "    <tr style=\"text-align: right;\">\n",
       "      <th></th>\n",
       "      <th>ClassId</th>\n",
       "      <th>Name</th>\n",
       "    </tr>\n",
       "  </thead>\n",
       "  <tbody>\n",
       "    <tr>\n",
       "      <th>0</th>\n",
       "      <td>0</td>\n",
       "      <td>Speed limit (20km/h)</td>\n",
       "    </tr>\n",
       "    <tr>\n",
       "      <th>1</th>\n",
       "      <td>1</td>\n",
       "      <td>Speed limit (30km/h)</td>\n",
       "    </tr>\n",
       "    <tr>\n",
       "      <th>2</th>\n",
       "      <td>2</td>\n",
       "      <td>Speed limit (50km/h)</td>\n",
       "    </tr>\n",
       "    <tr>\n",
       "      <th>3</th>\n",
       "      <td>3</td>\n",
       "      <td>Speed limit (60km/h)</td>\n",
       "    </tr>\n",
       "    <tr>\n",
       "      <th>4</th>\n",
       "      <td>4</td>\n",
       "      <td>Speed limit (70km/h)</td>\n",
       "    </tr>\n",
       "    <tr>\n",
       "      <th>5</th>\n",
       "      <td>5</td>\n",
       "      <td>Speed limit (80km/h)</td>\n",
       "    </tr>\n",
       "    <tr>\n",
       "      <th>6</th>\n",
       "      <td>6</td>\n",
       "      <td>End of speed limit (80km/h)</td>\n",
       "    </tr>\n",
       "    <tr>\n",
       "      <th>7</th>\n",
       "      <td>7</td>\n",
       "      <td>Speed limit (100km/h)</td>\n",
       "    </tr>\n",
       "    <tr>\n",
       "      <th>8</th>\n",
       "      <td>8</td>\n",
       "      <td>Speed limit (120km/h)</td>\n",
       "    </tr>\n",
       "    <tr>\n",
       "      <th>9</th>\n",
       "      <td>9</td>\n",
       "      <td>No passing</td>\n",
       "    </tr>\n",
       "    <tr>\n",
       "      <th>10</th>\n",
       "      <td>10</td>\n",
       "      <td>No passing for vechiles over 3.5 metric tons</td>\n",
       "    </tr>\n",
       "    <tr>\n",
       "      <th>11</th>\n",
       "      <td>11</td>\n",
       "      <td>Right-of-way at the next intersection</td>\n",
       "    </tr>\n",
       "    <tr>\n",
       "      <th>12</th>\n",
       "      <td>12</td>\n",
       "      <td>Priority road</td>\n",
       "    </tr>\n",
       "    <tr>\n",
       "      <th>13</th>\n",
       "      <td>13</td>\n",
       "      <td>Yield</td>\n",
       "    </tr>\n",
       "    <tr>\n",
       "      <th>14</th>\n",
       "      <td>14</td>\n",
       "      <td>Stop</td>\n",
       "    </tr>\n",
       "    <tr>\n",
       "      <th>15</th>\n",
       "      <td>15</td>\n",
       "      <td>No vechiles</td>\n",
       "    </tr>\n",
       "    <tr>\n",
       "      <th>16</th>\n",
       "      <td>16</td>\n",
       "      <td>Vechiles over 3.5 metric tons prohibited</td>\n",
       "    </tr>\n",
       "    <tr>\n",
       "      <th>17</th>\n",
       "      <td>17</td>\n",
       "      <td>No entry</td>\n",
       "    </tr>\n",
       "    <tr>\n",
       "      <th>18</th>\n",
       "      <td>18</td>\n",
       "      <td>General caution</td>\n",
       "    </tr>\n",
       "    <tr>\n",
       "      <th>19</th>\n",
       "      <td>19</td>\n",
       "      <td>Dangerous curve to the left</td>\n",
       "    </tr>\n",
       "    <tr>\n",
       "      <th>20</th>\n",
       "      <td>20</td>\n",
       "      <td>Dangerous curve to the right</td>\n",
       "    </tr>\n",
       "    <tr>\n",
       "      <th>21</th>\n",
       "      <td>21</td>\n",
       "      <td>Double curve</td>\n",
       "    </tr>\n",
       "    <tr>\n",
       "      <th>22</th>\n",
       "      <td>22</td>\n",
       "      <td>Bumpy road</td>\n",
       "    </tr>\n",
       "    <tr>\n",
       "      <th>23</th>\n",
       "      <td>23</td>\n",
       "      <td>Slippery road</td>\n",
       "    </tr>\n",
       "    <tr>\n",
       "      <th>24</th>\n",
       "      <td>24</td>\n",
       "      <td>Road narrows on the right</td>\n",
       "    </tr>\n",
       "    <tr>\n",
       "      <th>25</th>\n",
       "      <td>25</td>\n",
       "      <td>Road work</td>\n",
       "    </tr>\n",
       "    <tr>\n",
       "      <th>26</th>\n",
       "      <td>26</td>\n",
       "      <td>Traffic signals</td>\n",
       "    </tr>\n",
       "    <tr>\n",
       "      <th>27</th>\n",
       "      <td>27</td>\n",
       "      <td>Pedestrians</td>\n",
       "    </tr>\n",
       "    <tr>\n",
       "      <th>28</th>\n",
       "      <td>28</td>\n",
       "      <td>Children crossing</td>\n",
       "    </tr>\n",
       "    <tr>\n",
       "      <th>29</th>\n",
       "      <td>29</td>\n",
       "      <td>Bicycles crossing</td>\n",
       "    </tr>\n",
       "    <tr>\n",
       "      <th>30</th>\n",
       "      <td>30</td>\n",
       "      <td>Beware of ice/snow</td>\n",
       "    </tr>\n",
       "    <tr>\n",
       "      <th>31</th>\n",
       "      <td>31</td>\n",
       "      <td>Wild animals crossing</td>\n",
       "    </tr>\n",
       "    <tr>\n",
       "      <th>32</th>\n",
       "      <td>32</td>\n",
       "      <td>End of all speed and passing limits</td>\n",
       "    </tr>\n",
       "    <tr>\n",
       "      <th>33</th>\n",
       "      <td>33</td>\n",
       "      <td>Turn right ahead</td>\n",
       "    </tr>\n",
       "    <tr>\n",
       "      <th>34</th>\n",
       "      <td>34</td>\n",
       "      <td>Turn left ahead</td>\n",
       "    </tr>\n",
       "    <tr>\n",
       "      <th>35</th>\n",
       "      <td>35</td>\n",
       "      <td>Ahead only</td>\n",
       "    </tr>\n",
       "    <tr>\n",
       "      <th>36</th>\n",
       "      <td>36</td>\n",
       "      <td>Go straight or right</td>\n",
       "    </tr>\n",
       "    <tr>\n",
       "      <th>37</th>\n",
       "      <td>37</td>\n",
       "      <td>Go straight or left</td>\n",
       "    </tr>\n",
       "    <tr>\n",
       "      <th>38</th>\n",
       "      <td>38</td>\n",
       "      <td>Keep right</td>\n",
       "    </tr>\n",
       "    <tr>\n",
       "      <th>39</th>\n",
       "      <td>39</td>\n",
       "      <td>Keep left</td>\n",
       "    </tr>\n",
       "    <tr>\n",
       "      <th>40</th>\n",
       "      <td>40</td>\n",
       "      <td>Roundabout mandatory</td>\n",
       "    </tr>\n",
       "    <tr>\n",
       "      <th>41</th>\n",
       "      <td>41</td>\n",
       "      <td>End of no passing</td>\n",
       "    </tr>\n",
       "    <tr>\n",
       "      <th>42</th>\n",
       "      <td>42</td>\n",
       "      <td>End of no passing by vechiles over 3.5 metric ...</td>\n",
       "    </tr>\n",
       "  </tbody>\n",
       "</table>\n",
       "</div>"
      ],
      "text/plain": [
       "    ClassId                                               Name\n",
       "0         0                               Speed limit (20km/h)\n",
       "1         1                               Speed limit (30km/h)\n",
       "2         2                               Speed limit (50km/h)\n",
       "3         3                               Speed limit (60km/h)\n",
       "4         4                               Speed limit (70km/h)\n",
       "5         5                               Speed limit (80km/h)\n",
       "6         6                        End of speed limit (80km/h)\n",
       "7         7                              Speed limit (100km/h)\n",
       "8         8                              Speed limit (120km/h)\n",
       "9         9                                         No passing\n",
       "10       10       No passing for vechiles over 3.5 metric tons\n",
       "11       11              Right-of-way at the next intersection\n",
       "12       12                                      Priority road\n",
       "13       13                                              Yield\n",
       "14       14                                               Stop\n",
       "15       15                                        No vechiles\n",
       "16       16           Vechiles over 3.5 metric tons prohibited\n",
       "17       17                                           No entry\n",
       "18       18                                    General caution\n",
       "19       19                        Dangerous curve to the left\n",
       "20       20                       Dangerous curve to the right\n",
       "21       21                                       Double curve\n",
       "22       22                                         Bumpy road\n",
       "23       23                                      Slippery road\n",
       "24       24                          Road narrows on the right\n",
       "25       25                                          Road work\n",
       "26       26                                    Traffic signals\n",
       "27       27                                        Pedestrians\n",
       "28       28                                  Children crossing\n",
       "29       29                                  Bicycles crossing\n",
       "30       30                                 Beware of ice/snow\n",
       "31       31                              Wild animals crossing\n",
       "32       32                End of all speed and passing limits\n",
       "33       33                                   Turn right ahead\n",
       "34       34                                    Turn left ahead\n",
       "35       35                                         Ahead only\n",
       "36       36                               Go straight or right\n",
       "37       37                                Go straight or left\n",
       "38       38                                         Keep right\n",
       "39       39                                          Keep left\n",
       "40       40                               Roundabout mandatory\n",
       "41       41                                  End of no passing\n",
       "42       42  End of no passing by vechiles over 3.5 metric ..."
      ]
     },
     "execution_count": 2,
     "metadata": {},
     "output_type": "execute_result"
    }
   ],
   "source": [
    "csv_file= pd.read_csv('labels.csv')\n",
    "csv_file"
   ]
  },
  {
   "cell_type": "markdown",
   "id": "0196a718-cf14-44de-ae92-475dce13cae7",
   "metadata": {},
   "source": [
    "## Loading dataset"
   ]
  },
  {
   "cell_type": "code",
   "execution_count": 10,
   "id": "2a2f819b",
   "metadata": {},
   "outputs": [],
   "source": [
    "## download dataset --> loop through it extract each class\n",
    "## get images and assign it to train or test \n",
    "## get lables and assign it to train or test \n",
    "path = \"E:/deep learning/TraficSignClassification/myData\"\n",
    "df =[]\n",
    "for directory in os.listdir('myData'):\n",
    "    for filename in os.listdir(os.path.join(path, directory)):\n",
    "        image_path = os.path.join(path, directory, filename)\n",
    "        element = (image_path, directory)\n",
    "        df.append(element)\n",
    "    #all images from same directory and category\n",
    "    # dataset fomration ==> (image path, labels = directory)\n",
    "   \n",
    "        \n",
    "        "
   ]
  },
  {
   "cell_type": "code",
   "execution_count": 9,
   "id": "58fc49cd",
   "metadata": {},
   "outputs": [
    {
     "data": {
      "text/plain": [
       "73139"
      ]
     },
     "execution_count": 9,
     "metadata": {},
     "output_type": "execute_result"
    }
   ],
   "source": [
    "len(df)\n",
    "#image_path"
   ]
  },
  {
   "cell_type": "markdown",
   "id": "26b4e2aa-1e42-4e90-ac90-2fad41f39efe",
   "metadata": {},
   "source": [
    "## convert our list dataset into tensor"
   ]
  },
  {
   "cell_type": "code",
   "execution_count": 181,
   "id": "5bd49fed",
   "metadata": {},
   "outputs": [],
   "source": [
    "dataset = tf.data.experimental.from_list(df)\n",
    "#dataset = tf.data.Dataset.from_tensor_slices(df)"
   ]
  },
  {
   "cell_type": "code",
   "execution_count": 182,
   "id": "d847e7fb-b5fd-4204-9d5b-ddb39a78599b",
   "metadata": {},
   "outputs": [
    {
     "data": {
      "text/plain": [
       "<_ListDataset element_spec=(TensorSpec(shape=(), dtype=tf.string, name=None), TensorSpec(shape=(), dtype=tf.string, name=None))>"
      ]
     },
     "execution_count": 182,
     "metadata": {},
     "output_type": "execute_result"
    }
   ],
   "source": [
    "#dataset\n",
    "dataset"
   ]
  },
  {
   "cell_type": "code",
   "execution_count": 183,
   "id": "b1920f0b-c1d6-477e-9495-2abe8f69a3b5",
   "metadata": {},
   "outputs": [],
   "source": [
    "sample = dataset.as_numpy_iterator().next()"
   ]
  },
  {
   "cell_type": "code",
   "execution_count": 120,
   "id": "a55b2835-23c4-4ae5-8251-fc20fa152b10",
   "metadata": {
    "scrolled": true
   },
   "outputs": [
    {
     "data": {
      "text/plain": [
       "<matplotlib.image.AxesImage at 0x2870dabd910>"
      ]
     },
     "execution_count": 120,
     "metadata": {},
     "output_type": "execute_result"
    },
    {
     "data": {
      "image/png": "[encoded data removed]",
      "text/plain": [
       "<Figure size 640x480 with 1 Axes>"
      ]
     },
     "metadata": {},
     "output_type": "display_data"
    }
   ],
   "source": [
    "img = Image.open(sample[0])\n",
    "plt.imshow(img)"
   ]
  },
  {
   "cell_type": "markdown",
   "id": "a91a4db0-ca22-4da1-bac2-add5fa0096b4",
   "metadata": {},
   "source": [
    "## preprocess"
   ]
  },
  {
   "cell_type": "code",
   "execution_count": 3,
   "id": "56cb2adb-b9e4-4014-88c8-1b5299508cbf",
   "metadata": {},
   "outputs": [],
   "source": [
    "def preprocess(filepath, label):\n",
    "    byte_image = tf.io.read_file(filepath)\n",
    "    img = tf.io.decode_jpeg(byte_image)\n",
    "    img /= 255\n",
    "    return (img, label)"
   ]
  },
  {
   "cell_type": "code",
   "execution_count": 4,
   "id": "524a6a61-7c73-4308-8dfc-b30eaf213ae8",
   "metadata": {},
   "outputs": [],
   "source": [
    "## a function for resizong images \n",
    "def resize(image_path):\n",
    "    # Open the image\n",
    "   image = Image.open(image_path)\n",
    "   # Set the desired width and calculate the corresponding height\n",
    "   desired_width = 32\n",
    "   width, height = image.size\n",
    "   desired_height = int((height / width) * desired_width)\n",
    "\n",
    "   # Resize the image\n",
    "   resized_image = image.resize((desired_width, desired_height))\n",
    "\n",
    "   # Save the resized image\n",
    "   resized_image.save(\"resized_image.jpg\")"
   ]
  },
  {
   "cell_type": "code",
   "execution_count": 185,
   "id": "ce9fd65c-59a4-403a-9632-d66664a5d394",
   "metadata": {
    "scrolled": true
   },
   "outputs": [
    {
     "data": {
      "text/plain": [
       "<_MapDataset element_spec=(TensorSpec(shape=(None, None, None), dtype=tf.float32, name=None), TensorSpec(shape=(), dtype=tf.string, name=None))>"
      ]
     },
     "execution_count": 185,
     "metadata": {},
     "output_type": "execute_result"
    }
   ],
   "source": [
    "data = dataset.map(preprocess)\n",
    "data"
   ]
  },
  {
   "cell_type": "markdown",
   "id": "98c45224-4440-416e-9d40-d093534f59cd",
   "metadata": {},
   "source": [
    "## shuffle our data\n"
   ]
  },
  {
   "cell_type": "code",
   "execution_count": 186,
   "id": "18a139c0-5e82-4c34-b2f4-1fa10f6bbf22",
   "metadata": {},
   "outputs": [],
   "source": [
    "dataset = dataset.map(preprocess)\n",
    "dataset = dataset.cache()\n",
    "dataset = dataset.shuffle(buffer_size = 73139)"
   ]
  },
  {
   "cell_type": "markdown",
   "id": "550497da-18d7-471f-9fce-98070d37a9e7",
   "metadata": {},
   "source": [
    "## Making train and test set partitions"
   ]
  },
  {
   "cell_type": "code",
   "execution_count": 245,
   "id": "6f34d2ff-c9f5-4138-a07c-dfd88de08e48",
   "metadata": {},
   "outputs": [],
   "source": [
    "#take 80% of total data for train\n",
    "train_data = dataset.take(round(len(dataset)*.8))\n"
   ]
  },
  {
   "cell_type": "code",
   "execution_count": 244,
   "id": "fc70b42d-53e9-4798-919a-53b8871af6b6",
   "metadata": {},
   "outputs": [],
   "source": [
    "test_data = dataset.skip(round(len(dataset)*.8))\n",
    "test_data = test_data.take(round(len(dataset)*.2))\n"
   ]
  },
  {
   "cell_type": "code",
   "execution_count": 202,
   "id": "8e730527-5fb4-41d0-b2b8-5be526241e5e",
   "metadata": {},
   "outputs": [
    {
     "data": {
      "text/plain": [
       "<_TakeDataset element_spec=(TensorSpec(shape=(None, None, None), dtype=tf.float32, name=None), TensorSpec(shape=(), dtype=tf.string, name=None))>"
      ]
     },
     "execution_count": 202,
     "metadata": {},
     "output_type": "execute_result"
    }
   ],
   "source": [
    "train_data"
   ]
  },
  {
   "cell_type": "code",
   "execution_count": 190,
   "id": "79506d0f-ebde-48c2-bfa8-83277637dc60",
   "metadata": {},
   "outputs": [
    {
     "data": {
      "text/plain": [
       "<_TakeDataset element_spec=(TensorSpec(shape=(None, None, None), dtype=tf.float32, name=None), TensorSpec(shape=(), dtype=tf.string, name=None))>"
      ]
     },
     "execution_count": 190,
     "metadata": {},
     "output_type": "execute_result"
    }
   ],
   "source": [
    "test_data"
   ]
  },
  {
   "cell_type": "code",
   "execution_count": 229,
   "id": "1c9d2b1b-1dc4-43c9-b16a-cf3dd6b03964",
   "metadata": {},
   "outputs": [],
   "source": [
    "## loop through our train data and split the Label from images and store them in Y_train\n",
    "X_train = []\n",
    "Y_train = []\n",
    "for x, y in train_data:\n",
    "    X_train.append(x)\n",
    "    Y_train.append(y)\n"
   ]
  },
  {
   "cell_type": "code",
   "execution_count": 238,
   "id": "8d324c1f-652f-4320-a4ef-128318560327",
   "metadata": {},
   "outputs": [],
   "source": [
    "#convert them into tensors\n",
    "x_train = tf.convert_to_tensor(X_train)\n",
    "y_train = tf.convert_to_tensor(Y_train)\n",
    "y_train = tf.strings.to_number(y_train, out_type=tf.float32)"
   ]
  },
  {
   "cell_type": "markdown",
   "id": "c7d19470-53f4-4373-b721-6bb503e26715",
   "metadata": {},
   "source": [
    "## Create our nueral network"
   ]
  },
  {
   "cell_type": "code",
   "execution_count": 241,
   "id": "df99f2b1-94ae-4d74-9b64-f303cc38ee5c",
   "metadata": {},
   "outputs": [
    {
     "name": "stdout",
     "output_type": "stream",
     "text": [
      "Model: \"sequential_2\"\n",
      "_________________________________________________________________\n",
      " Layer (type)                Output Shape              Param #   \n",
      "=================================================================\n",
      " flatten_2 (Flatten)         (None, 3072)              0         \n",
      "                                                                 \n",
      " dense_4 (Dense)             (None, 128)               393344    \n",
      "                                                                 \n",
      " dense_5 (Dense)             (None, 128)               16512     \n",
      "                                                                 \n",
      " dense_6 (Dense)             (None, 43)                5547      \n",
      "                                                                 \n",
      "=================================================================\n",
      "Total params: 415403 (1.58 MB)\n",
      "Trainable params: 415403 (1.58 MB)\n",
      "Non-trainable params: 0 (0.00 Byte)\n",
      "_________________________________________________________________\n"
     ]
    }
   ],
   "source": [
    "model = Sequential()\n",
    "model.add(Flatten(input_shape = (32,32,3)))\n",
    "model.add(Dense(128, activation = 'relu'))\n",
    "model.add(Dense(128, activation = 'relu'))\n",
    "model.add(Dense(43, activation = 'softmax'))\n",
    "model.compile(optimizer ='adam' , loss='sparse_categorical_crossentropy', metrics=['accuracy'])\n",
    "model.summary()"
   ]
  },
  {
   "cell_type": "markdown",
   "id": "b9364f4c-f9d1-49f0-ae79-4abdc5f8f0bb",
   "metadata": {},
   "source": [
    "## Train model\n",
    "\n"
   ]
  },
  {
   "cell_type": "code",
   "execution_count": 243,
   "id": "48412531-38b1-4577-a43d-0ae35d4c429e",
   "metadata": {},
   "outputs": [
    {
     "name": "stdout",
     "output_type": "stream",
     "text": [
      "Epoch 1/10\n",
      "3657/3657 [==============================] - 29s 8ms/step - loss: 0.2773 - accuracy: 0.9196\n",
      "Epoch 2/10\n",
      "3657/3657 [==============================] - 29s 8ms/step - loss: 0.2539 - accuracy: 0.9266\n",
      "Epoch 3/10\n",
      "3657/3657 [==============================] - 29s 8ms/step - loss: 0.2324 - accuracy: 0.9322\n",
      "Epoch 4/10\n",
      "3657/3657 [==============================] - 29s 8ms/step - loss: 0.2105 - accuracy: 0.9386\n",
      "Epoch 5/10\n",
      "3657/3657 [==============================] - 29s 8ms/step - loss: 0.1989 - accuracy: 0.9422\n",
      "Epoch 6/10\n",
      "3657/3657 [==============================] - 29s 8ms/step - loss: 0.1881 - accuracy: 0.9457\n",
      "Epoch 7/10\n",
      "3657/3657 [==============================] - 29s 8ms/step - loss: 0.1809 - accuracy: 0.9467\n",
      "Epoch 8/10\n",
      "3657/3657 [==============================] - 29s 8ms/step - loss: 0.1687 - accuracy: 0.9502\n",
      "Epoch 9/10\n",
      "3657/3657 [==============================] - 29s 8ms/step - loss: 0.1696 - accuracy: 0.9500\n",
      "Epoch 10/10\n",
      "3657/3657 [==============================] - 29s 8ms/step - loss: 0.1543 - accuracy: 0.9544\n"
     ]
    },
    {
     "data": {
      "text/plain": [
       "<keras.src.callbacks.History at 0x287e62fd5d0>"
      ]
     },
     "execution_count": 243,
     "metadata": {},
     "output_type": "execute_result"
    }
   ],
   "source": [
    "model.fit(x_train, y_train, batch_size =16, epochs=10 )"
   ]
  },
  {
   "cell_type": "markdown",
   "id": "c168e9a3-f61b-4baa-a43c-f0e94dc0bf72",
   "metadata": {},
   "source": [
    "### Test model"
   ]
  },
  {
   "cell_type": "code",
   "execution_count": 250,
   "id": "8cef0b86-f43d-4ad0-a2ee-1dcb3e4109a2",
   "metadata": {},
   "outputs": [],
   "source": [
    "## loop through our test data and split the Label from images and store them in Y-test\n",
    "X_test = []\n",
    "Y_test = []\n",
    "for x, y in test_data:\n",
    "    X_test.append(x)\n",
    "    Y_test.append(y)\n",
    "\n",
    "#convert the label into tensors\n",
    "x_test = tf.convert_to_tensor(X_test)\n",
    "y_test = tf.convert_to_tensor(Y_test)\n",
    "y_test = tf.strings.to_number(y_test, out_type=tf.float32)"
   ]
  },
  {
   "cell_type": "code",
   "execution_count": 252,
   "id": "0eaaadf0-4302-4d3a-b74e-4215a838fe92",
   "metadata": {},
   "outputs": [
    {
     "name": "stdout",
     "output_type": "stream",
     "text": [
      "458/458 [==============================] - 7s 14ms/step - loss: 0.2064 - accuracy: 0.9429\n",
      "Loss: 0.20636692643165588\n",
      "Accuracy: 0.9429177045822144\n"
     ]
    }
   ],
   "source": [
    "\n",
    "\n",
    "# Evaluate the model on the test data\n",
    "results = model.evaluate(x_test, y_test)\n",
    "\n",
    "# Print the evaluation results\n",
    "print('Loss:', results[0])\n",
    "print('Accuracy:', results[1])"
   ]
  },
  {
   "cell_type": "markdown",
   "id": "08d0b443-5102-44e8-8279-0bddf0adf145",
   "metadata": {},
   "source": [
    "### Save the Model"
   ]
  },
  {
   "cell_type": "code",
   "execution_count": 253,
   "id": "f76d228c-0db2-46da-9235-8655d4f24cb8",
   "metadata": {
    "scrolled": true
   },
   "outputs": [
    {
     "name": "stdout",
     "output_type": "stream",
     "text": [
      "INFO:tensorflow:Assets written to: E:\\deep learning\\TraficSignClassification\\model\\assets\n"
     ]
    },
    {
     "name": "stderr",
     "output_type": "stream",
     "text": [
      "INFO:tensorflow:Assets written to: E:\\deep learning\\TraficSignClassification\\model\\assets\n"
     ]
    }
   ],
   "source": [
    "model.save(\"E:\\deep learning\\TraficSignClassification\\model\")"
   ]
  },
  {
   "cell_type": "markdown",
   "id": "82f458c7-98c6-42b0-98f6-9308f4d8c64f",
   "metadata": {},
   "source": [
    "### Load model\n"
   ]
  },
  {
   "cell_type": "code",
   "execution_count": 5,
   "id": "6f39d657-86d8-4bc1-bfea-3bf6073672cb",
   "metadata": {
    "scrolled": true
   },
   "outputs": [
    {
     "name": "stdout",
     "output_type": "stream",
     "text": [
      "Model: \"sequential_2\"\n",
      "_________________________________________________________________\n",
      " Layer (type)                Output Shape              Param #   \n",
      "=================================================================\n",
      " flatten_2 (Flatten)         (None, 3072)              0         \n",
      "                                                                 \n",
      " dense_4 (Dense)             (None, 128)               393344    \n",
      "                                                                 \n",
      " dense_5 (Dense)             (None, 128)               16512     \n",
      "                                                                 \n",
      " dense_6 (Dense)             (None, 43)                5547      \n",
      "                                                                 \n",
      "=================================================================\n",
      "Total params: 415403 (1.58 MB)\n",
      "Trainable params: 415403 (1.58 MB)\n",
      "Non-trainable params: 0 (0.00 Byte)\n",
      "_________________________________________________________________\n"
     ]
    }
   ],
   "source": [
    "model = tf.keras.models.load_model(\"E:\\deep learning\\TraficSignClassification\\model\")\n",
    "model.summary()"
   ]
  },
  {
   "cell_type": "markdown",
   "id": "213596b9-ce08-406b-9c01-69c340bf07fa",
   "metadata": {},
   "source": [
    "### Test our model with our data"
   ]
  },
  {
   "cell_type": "code",
   "execution_count": 7,
   "id": "cc1303d3-cece-4257-b51e-599c81fefff3",
   "metadata": {},
   "outputs": [
    {
     "data": {
      "text/plain": [
       "<matplotlib.image.AxesImage at 0x1b4862e4b10>"
      ]
     },
     "execution_count": 7,
     "metadata": {},
     "output_type": "execute_result"
    },
    {
     "data": {
      "image/png": "[encoded data removed]",
      "text/plain": [
       "<Figure size 640x480 with 1 Axes>"
      ]
     },
     "metadata": {},
     "output_type": "display_data"
    }
   ],
   "source": [
    "img = Image.open(df[200][0])\n",
    "plt.imshow(img)"
   ]
  },
  {
   "cell_type": "code",
   "execution_count": 6,
   "id": "d39df8fd-e3ac-4c99-8cc7-e991f6b526e4",
   "metadata": {},
   "outputs": [],
   "source": [
    "### Create a function for predicting our images\n",
    "def predict_image(filepath):\n",
    "    #passing an image to preprocess func to get ready for predictin\n",
    "    img = preprocess(filepath,_)\n",
    "    img = img[0]\n",
    "    img = np.expand_dims(img, axis=0)\n",
    "    #print(img.shape)\n",
    "    #make prediciton\n",
    "    res = model.predict(img)\n",
    "    indx = np.argmax(res)\n",
    "    res = (f\"{classes[indx]} Sign\")\n",
    "    return res"
   ]
  },
  {
   "cell_type": "code",
   "execution_count": 7,
   "id": "f2eaf245-2725-4ffa-b99d-cfd826806e1f",
   "metadata": {},
   "outputs": [],
   "source": [
    "##extract all class\n",
    "classes = csv_file['Name']"
   ]
  },
  {
   "cell_type": "code",
   "execution_count": 51,
   "id": "473498e4-aa05-4ad2-98a2-120200f5fc42",
   "metadata": {},
   "outputs": [
    {
     "name": "stdout",
     "output_type": "stream",
     "text": [
      "(1, 32, 32, 3)\n",
      "1/1 [==============================] - 0s 15ms/step\n",
      "The Image is probably ' Speed limit (20km/h) ' Sign\n"
     ]
    }
   ],
   "source": [
    "predict_image(df[200][0])"
   ]
  },
  {
   "cell_type": "markdown",
   "id": "23de0d4f-e67f-4ab6-b108-c3451049618a",
   "metadata": {},
   "source": [
    "##### Another image"
   ]
  },
  {
   "cell_type": "code",
   "execution_count": 11,
   "id": "e93ec2d3-4038-4488-ab43-d05e2298ecfd",
   "metadata": {},
   "outputs": [
    {
     "data": {
      "text/plain": [
       "<matplotlib.image.AxesImage at 0x1da0be09a50>"
      ]
     },
     "execution_count": 11,
     "metadata": {},
     "output_type": "execute_result"
    },
    {
     "data": {
      "image/png": "[encoded data removed]",
      "text/plain": [
       "<Figure size 640x480 with 1 Axes>"
      ]
     },
     "metadata": {},
     "output_type": "display_data"
    }
   ],
   "source": [
    "#Stop sign\n",
    "img = Image.open(df[19759][0])\n",
    "plt.imshow(img)"
   ]
  },
  {
   "cell_type": "code",
   "execution_count": 12,
   "id": "f31ae358-f593-4946-bcf7-f34cb5ca504b",
   "metadata": {},
   "outputs": [
    {
     "name": "stdout",
     "output_type": "stream",
     "text": [
      "1/1 [==============================] - 0s 87ms/step\n"
     ]
    },
    {
     "data": {
      "text/plain": [
       "'Stop Sign'"
      ]
     },
     "execution_count": 12,
     "metadata": {},
     "output_type": "execute_result"
    }
   ],
   "source": [
    "predict_image(df[19759][0])\n"
   ]
  },
  {
   "cell_type": "markdown",
   "id": "98cd5249-5230-4f34-b0b5-5a5d578ef7d4",
   "metadata": {},
   "source": [
    "### Lets try our sample data form streets\n"
   ]
  },
  {
   "cell_type": "code",
   "execution_count": 36,
   "id": "9d4dc727-1d1f-4188-a602-bf2e40f0a74d",
   "metadata": {
    "scrolled": true
   },
   "outputs": [
    {
     "name": "stdout",
     "output_type": "stream",
     "text": [
      "1/1 [==============================] - 0s 16ms/step\n",
      "1/1 [==============================] - 0s 15ms/step\n",
      "1/1 [==============================] - 0s 14ms/step\n",
      "1/1 [==============================] - 0s 15ms/step\n",
      "1/1 [==============================] - 0s 14ms/step\n",
      "1/1 [==============================] - 0s 15ms/step\n",
      "1/1 [==============================] - 0s 15ms/step\n",
      "1/1 [==============================] - 0s 15ms/step\n",
      "1/1 [==============================] - 0s 15ms/step\n",
      "1/1 [==============================] - 0s 15ms/step\n",
      "1/1 [==============================] - 0s 16ms/step\n",
      "1/1 [==============================] - 0s 15ms/step\n"
     ]
    }
   ],
   "source": [
    "## We should consider this that this data comes from different distrebution, So it means we are going to see more wrong prediction\n",
    "labels = []\n",
    "image_list =[]\n",
    "path = \"E:/deep learning/TraficSignClassification/images\"\n",
    "#loop through images folder\n",
    "for filename in os.listdir('images'):\n",
    "    image_path = os.path.join(path, filename)\n",
    "    \n",
    "    #read the path and open image\n",
    "    img = Image.open(image_path)\n",
    "\n",
    "    #predict out image and add result to label list \n",
    "    res = predict_image(image_path)\n",
    "    labels.append(res)\n",
    "    #add image to list\n",
    "    image_list.append(img)\n"
   ]
  },
  {
   "cell_type": "code",
   "execution_count": 37,
   "id": "99d98977-2707-43d6-a649-7904068a7205",
   "metadata": {},
   "outputs": [
    {
     "data": {
      "image/png": "[encoded data removed]",
      "text/plain": [
       "<Figure size 640x480 with 12 Axes>"
      ]
     },
     "metadata": {},
     "output_type": "display_data"
    }
   ],
   "source": [
    "# Create the figure and subplots\n",
    "fig, axes = plt.subplots(6, 2)\n",
    "\n",
    "# Iterate through the axes and plot each image\n",
    "for i, ax in enumerate(axes.flat):\n",
    "    if i < len(image_list):\n",
    "        ax.imshow(image_list[i])\n",
    "        ax.axis('off')\n",
    "        ax.set_title(labels[i])\n",
    "# Adjust the layout and spacing\n",
    "plt.tight_layout()\n",
    "\n",
    "# Show the plot\n",
    "plt.show()"
   ]
  },
  {
   "cell_type": "code",
   "execution_count": null,
   "id": "586a3967-a091-4e3d-bea7-8abdbb1e6569",
   "metadata": {},
   "outputs": [],
   "source": []
  }
 ],
 "metadata": {
  "kernelspec": {
   "display_name": "Python 3 (ipykernel)",
   "language": "python",
   "name": "python3"
  },
  "language_info": {
   "codemirror_mode": {
    "name": "ipython",
    "version": 3
   },
   "file_extension": ".py",
   "mimetype": "text/x-python",
   "name": "python",
   "nbconvert_exporter": "python",
   "pygments_lexer": "ipython3",
   "version": "3.11.1"
  }
 },
 "nbformat": 4,
 "nbformat_minor": 5
}
